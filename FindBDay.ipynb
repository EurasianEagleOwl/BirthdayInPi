{
 "cells": [
  {
   "cell_type": "code",
   "execution_count": 1,
   "metadata": {},
   "outputs": [],
   "source": [
    "from mpmath import mp \n",
    "#Author: Cheng-run Jiang\n",
    "#Date: 03/21/2022"
   ]
  },
  {
   "cell_type": "code",
   "execution_count": 2,
   "metadata": {},
   "outputs": [],
   "source": [
    "mp.dps = 100000 # mp.dps = input('输入pi的精度')\n",
    "Pi=list(str(mp.pi))\n",
    "n=len(Pi) "
   ]
  },
  {
   "cell_type": "code",
   "execution_count": 5,
   "metadata": {},
   "outputs": [
    {
     "name": "stdout",
     "output_type": "stream",
     "text": [
      "你的生日在pi中第14585到第14589位\n"
     ]
    }
   ],
   "source": [
    "birth = input('输入6-8位数字组成的生日，格式为YYYYM(M)D(D)')\n",
    "s=list(birth)\n",
    "if len(s) > 8:\n",
    "    print('你是10000年以后的人类么？')\n",
    "else:\n",
    "    index=[]\n",
    "    for i in range(n-len(s)):\n",
    "        if Pi[i:i+len(s)]==s:\n",
    "            index.append(i)\n",
    "            break\n",
    "    if index:\n",
    "        print(f'你的生日在pi中第{i}到第{i+len(s)-1}位')\n",
    "    else:\n",
    "        print('目前精度内无法找到你的生日')"
   ]
  },
  {
   "cell_type": "code",
   "execution_count": null,
   "metadata": {},
   "outputs": [],
   "source": []
  }
 ],
 "metadata": {
  "interpreter": {
   "hash": "b3ba2566441a7c06988d0923437866b63cedc61552a5af99d1f4fb67d367b25f"
  },
  "kernelspec": {
   "display_name": "Python 3.9.7 ('base')",
   "language": "python",
   "name": "python3"
  },
  "language_info": {
   "codemirror_mode": {
    "name": "ipython",
    "version": 3
   },
   "file_extension": ".py",
   "mimetype": "text/x-python",
   "name": "python",
   "nbconvert_exporter": "python",
   "pygments_lexer": "ipython3",
   "version": "3.9.7"
  },
  "orig_nbformat": 4
 },
 "nbformat": 4,
 "nbformat_minor": 2
}
